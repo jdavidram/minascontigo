{
 "cells": [
  {
   "cell_type": "code",
   "execution_count": 1,
   "id": "02a8faf9",
   "metadata": {},
   "outputs": [],
   "source": [
    "content = \"\"\n",
    "for i in range(1, 4, 1):\n",
    "    with open(\"./unidad\" + str(i) + \"/README.md\", \"r\") as file:\n",
    "        for r in file.readlines():\n",
    "            if len(r.replace(\"<h1>\", \"&&\").replace(\"</h1>\", \"&&\").split(\"&&\")) == 3:\n",
    "                content += \"# Capítulo \" + str(i) + \": \" + r.replace(\"<h1>\", \"&&\").replace(\"</h1>\", \"&&\").split(\"&&\")[1] + \"\\n\\n\"\n",
    "            if r.split(\"# \")[0] == \"\":\n",
    "                content += \"* [\" + \" \".join(r.split(\" \")[1::]).replace(\"\\n\", \"\") + \"](./unidad\" + str(i) + \"/README.md#\" + \"-\".join(r.split(\" \")[1::]).replace(\"\\n\", \"\").lower() + \")\" + \"\\n\\n\"\n",
    "            elif r.split(\"## \")[0] == \"\":\n",
    "                content += \"    * [\" + \" \".join(r.split(\" \")[1::]).replace(\"\\n\", \"\") + \"](./unidad\" + str(i) + \"/README.md#\" + \"-\".join(r.split(\" \")[1::]).replace(\"\\n\", \"\").lower() + \")\" + \"\\n\\n\"\n",
    "        file.close()\n",
    "\n",
    "with open(\"./README.md\", \"+a\") as newFile:\n",
    "    newFile.write(content)\n",
    "    newFile.close()"
   ]
  }
 ],
 "metadata": {
  "kernelspec": {
   "display_name": "base",
   "language": "python",
   "name": "python3"
  },
  "language_info": {
   "codemirror_mode": {
    "name": "ipython",
    "version": 3
   },
   "file_extension": ".py",
   "mimetype": "text/x-python",
   "name": "python",
   "nbconvert_exporter": "python",
   "pygments_lexer": "ipython3",
   "version": "3.13.5"
  }
 },
 "nbformat": 4,
 "nbformat_minor": 5
}
